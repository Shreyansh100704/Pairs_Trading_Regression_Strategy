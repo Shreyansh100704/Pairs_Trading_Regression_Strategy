{
  "nbformat": 4,
  "nbformat_minor": 0,
  "metadata": {
    "colab": {
      "provenance": []
    },
    "kernelspec": {
      "name": "python3",
      "display_name": "Python 3"
    },
    "language_info": {
      "name": "python"
    }
  },
  "cells": [
    {
      "cell_type": "code",
      "source": [
        "import warnings\n",
        "warnings.filterwarnings('ignore')"
      ],
      "metadata": {
        "id": "WL_pUw_TPCg4"
      },
      "execution_count": 16,
      "outputs": []
    },
    {
      "cell_type": "code",
      "source": [
        "import pandas as pd\n",
        "import numpy as np\n",
        "\n",
        "def calculate_metrics(df, pnl_col='Trade PnL', returns_col='Returns',\n",
        "                      z_entry_col='ZScore Entry', z_exit_col='ZScore Exit',\n",
        "                      risk_free_rate=0.055):\n",
        "    # Filter out trades with both entry & exit zscore > 3\n",
        "    if z_entry_col in df.columns and z_exit_col in df.columns:\n",
        "        df = df[~((df[z_entry_col] > 3) & (df[z_exit_col] > 3))]\n",
        "\n",
        "\n",
        "    df[returns_col] = pd.to_numeric(df[returns_col], errors='coerce')\n",
        "    df[pnl_col] = pd.to_numeric(df[pnl_col], errors='coerce')\n",
        "\n",
        "\n",
        "    df = df.dropna(subset=[returns_col, pnl_col])\n",
        "\n",
        "    total_trades = len(df)\n",
        "    win_trades = len(df[df[pnl_col] > 0])\n",
        "    loss_trades = len(df[df[pnl_col] < 0])\n",
        "    win_percent = (win_trades / total_trades) * 100 if total_trades > 0 else 0\n",
        "\n",
        "    total_pnl = df[pnl_col].sum()\n",
        "    total_return = df[returns_col].sum()\n",
        "\n",
        "    avg_return = df[returns_col].mean()\n",
        "    std_return = df[returns_col].std(ddof=1)\n",
        "\n",
        "    # Risk-free rate converted to per-trade basis (assuming 252 trading days)\n",
        "    rf_per_trade = (1 + risk_free_rate) ** (1 / 252) - 1\n",
        "    sharpe_ratio = ((avg_return - rf_per_trade) / std_return) * np.sqrt(252) if std_return != 0 else np.nan\n",
        "\n",
        "    # Sortino Ratio\n",
        "    downside_returns = df[df[returns_col] < 0][returns_col]\n",
        "    downside_std = downside_returns.std(ddof=1)\n",
        "    sortino_ratio = ((avg_return - rf_per_trade) / downside_std) * np.sqrt(252) if downside_std != 0 else np.nan\n",
        "\n",
        "    # Profit Factor\n",
        "    gross_profit = df[df[pnl_col] > 0][pnl_col].sum()\n",
        "    gross_loss = abs(df[df[pnl_col] < 0][pnl_col].sum())\n",
        "    profit_factor = gross_profit / gross_loss if gross_loss != 0 else np.nan\n",
        "\n",
        "    # Expectancy\n",
        "    expectancy = total_pnl / total_trades if total_trades > 0 else np.nan\n",
        "\n",
        "    # Avg Win / Avg Loss\n",
        "    avg_win = df[df[pnl_col] > 0][pnl_col].mean()\n",
        "    avg_loss = abs(df[df[pnl_col] < 0][pnl_col].mean())\n",
        "    avg_win_loss_ratio = avg_win / avg_loss if avg_loss != 0 else np.nan\n",
        "\n",
        "    # Max Drawdown\n",
        "    cum_returns = (1 + df[returns_col]).cumprod()\n",
        "    cum_roll_max = cum_returns.cummax()\n",
        "    drawdown = (cum_returns - cum_roll_max) / cum_roll_max\n",
        "    max_drawdown = drawdown.min()\n",
        "\n",
        "    return {\n",
        "        \"Total Trades\": total_trades,\n",
        "        \"Winning Trades\": win_trades,\n",
        "        \"Losing Trades\": loss_trades,\n",
        "        \"Win %\": np.round(win_percent,2),\n",
        "        \"Total PnL\": np.round(total_pnl,2),\n",
        "        \"Total Return %\": np.round(((total_return)*100),2),\n",
        "        \"Expectancy\": np.round(expectancy,2),\n",
        "        \"Avg Win / Avg Loss\": np.round(avg_win_loss_ratio,2),\n",
        "        \"Sharpe Ratio\": np.round(sharpe_ratio,2),\n",
        "        \"Sortino Ratio\": np.round(sortino_ratio,2),\n",
        "        \"Profit Factor\": np.round(profit_factor,2),\n",
        "        \"Max Drawdown %\": np.round(max_drawdown*100,2)\n",
        "    }\n",
        "\n"
      ],
      "metadata": {
        "id": "1T_oL6y7MSG_"
      },
      "execution_count": 13,
      "outputs": []
    },
    {
      "cell_type": "code",
      "source": [
        "# Load CSVs\n",
        "file1 = \"correlated_pairs_by_sector_backtest_results.csv\"\n",
        "file2 = \"final_results.csv\"\n",
        "\n",
        "df1 = pd.read_csv(file1)\n",
        "df2 = pd.read_csv(file2)\n",
        "\n",
        "# For df1, calculate returns if missing\n",
        "if 'Returns' not in df1.columns:\n",
        "    df1['Returns'] = df1['Trade PnL'] / (\n",
        "        abs(df1['Entry Open Price X'] * df1['Lot Size X']) +\n",
        "        abs(df1['Entry Open Price Y'] * df1['Lot Size Y'])\n",
        "    )\n",
        "\n",
        "# Run metrics\n",
        "metrics_df1 = calculate_metrics(df1, pnl_col='Trade PnL', returns_col='Returns',\n",
        "                                 z_entry_col='ZScore Entry', z_exit_col='ZScore Exit')\n",
        "metrics_df2 = calculate_metrics(df2, pnl_col='Trade_PnL', returns_col='Returns',\n",
        "                                 z_entry_col='ZScore_Entry', z_exit_col='ZScore_Exit')\n",
        "\n"
      ],
      "metadata": {
        "id": "NXsoVSMHMWY4"
      },
      "execution_count": 17,
      "outputs": []
    },
    {
      "cell_type": "code",
      "source": [
        "print(\"\\nMetrics for correlated_pairs_by_sector_backtest_results.csv:\")\n",
        "for k, v in metrics_df1.items():\n",
        "    print(f\"{k}: {v}\")"
      ],
      "metadata": {
        "colab": {
          "base_uri": "https://localhost:8080/"
        },
        "id": "kiz4PPrWPLYq",
        "outputId": "bec74ad5-dd03-4c92-d195-77941ccf316c"
      },
      "execution_count": 18,
      "outputs": [
        {
          "output_type": "stream",
          "name": "stdout",
          "text": [
            "\n",
            "Metrics for correlated_pairs_by_sector_backtest_results.csv:\n",
            "Total Trades: 182\n",
            "Winning Trades: 89\n",
            "Losing Trades: 93\n",
            "Win %: 48.9\n",
            "Total PnL: 101616.84\n",
            "Total Return %: 111.77\n",
            "Expectancy: 558.33\n",
            "Avg Win / Avg Loss: 1.85\n",
            "Sharpe Ratio: 2.57\n",
            "Sortino Ratio: 4.88\n",
            "Profit Factor: 1.77\n",
            "Max Drawdown %: -23.2\n"
          ]
        }
      ]
    },
    {
      "cell_type": "code",
      "source": [
        "print(\"\\nMetrics for final_results.csv:\")\n",
        "for k, v in metrics_df2.items():\n",
        "    print(f\"{k}: {v}\")\n"
      ],
      "metadata": {
        "colab": {
          "base_uri": "https://localhost:8080/"
        },
        "id": "AwC8nYQiMXJc",
        "outputId": "cae21c6f-6ac5-4b62-e7b8-6640e8770b10"
      },
      "execution_count": 19,
      "outputs": [
        {
          "output_type": "stream",
          "name": "stdout",
          "text": [
            "\n",
            "Metrics for final_results.csv:\n",
            "Total Trades: 1656\n",
            "Winning Trades: 851\n",
            "Losing Trades: 805\n",
            "Win %: 51.39\n",
            "Total PnL: 1368972.64\n",
            "Total Return %: 4464.75\n",
            "Expectancy: 826.67\n",
            "Avg Win / Avg Loss: 2.2\n",
            "Sharpe Ratio: 1.0\n",
            "Sortino Ratio: 1.53\n",
            "Profit Factor: 2.33\n",
            "Max Drawdown %: -247001389.12\n"
          ]
        }
      ]
    }
  ]
}